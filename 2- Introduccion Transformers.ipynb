{
 "cells": [
  {
   "cell_type": "code",
   "execution_count": 3,
   "id": "28b77d2c-a57a-42ee-822d-6d4680b4c122",
   "metadata": {},
   "outputs": [
    {
     "data": {
      "text/plain": [
       "'4.34.0'"
      ]
     },
     "execution_count": 3,
     "metadata": {},
     "output_type": "execute_result"
    }
   ],
   "source": [
    "import transformers\n",
    "transformers.__version__\n"
   ]
  },
  {
   "cell_type": "code",
   "execution_count": 4,
   "id": "61414d4e-2170-4e22-98f2-adf5c2b59356",
   "metadata": {},
   "outputs": [],
   "source": [
    "from transformers import pipeline"
   ]
  },
  {
   "cell_type": "code",
   "execution_count": 5,
   "id": "2e3c9667-0c8a-4664-bc74-b3df15b7361e",
   "metadata": {},
   "outputs": [
    {
     "data": {
      "application/vnd.jupyter.widget-view+json": {
       "model_id": "845f00b8c8844b5b9f29667569005a80",
       "version_major": 2,
       "version_minor": 0
      },
      "text/plain": [
       "Downloading tokenizer_config.json:   0%|          | 0.00/49.0 [00:00<?, ?B/s]"
      ]
     },
     "metadata": {},
     "output_type": "display_data"
    }
   ],
   "source": [
    "model=\"distilbert-base-cased-distilled-squad\"\n",
    "nlp = pipeline(\"question-answering\", model=model, tokenizer=model)\n"
   ]
  },
  {
   "cell_type": "code",
   "execution_count": 6,
   "id": "bdd682b9-4f26-4f6e-91ca-68d98f8c9186",
   "metadata": {},
   "outputs": [],
   "source": [
    "context = r\"\"\"\n",
    "Extractive Question Answering is the task of extracting an answer from a text given a question. An example of a\n",
    "question answering dataset is the SQuAD dataset, which is entirely based on that task. If you would like to fine-tune\n",
    "a model on a SQuAD task, you may leverage the examples/question-answering/run_squad.py script.\n",
    "\"\"\""
   ]
  },
  {
   "cell_type": "code",
   "execution_count": 7,
   "id": "7b3d6664-9a3f-4b85-a98a-0f32c040a0b4",
   "metadata": {},
   "outputs": [],
   "source": [
    "result = nlp(question=\"What is question answering?\", context=context)"
   ]
  },
  {
   "cell_type": "code",
   "execution_count": 8,
   "id": "23d30151-436a-420b-bcf6-266c82e2ceb8",
   "metadata": {},
   "outputs": [
    {
     "data": {
      "text/plain": [
       "{'score': 0.5103356242179871,\n",
       " 'start': 34,\n",
       " 'end': 95,\n",
       " 'answer': 'the task of extracting an answer from a text given a question'}"
      ]
     },
     "execution_count": 8,
     "metadata": {},
     "output_type": "execute_result"
    }
   ],
   "source": [
    "result"
   ]
  },
  {
   "cell_type": "code",
   "execution_count": 9,
   "id": "08eade3a-e71e-4e3b-a079-7678645e7090",
   "metadata": {},
   "outputs": [
    {
     "name": "stdout",
     "output_type": "stream",
     "text": [
      "the task of extracting an answer from a text given a question\n"
     ]
    }
   ],
   "source": [
    "print(result['answer'])"
   ]
  },
  {
   "cell_type": "code",
   "execution_count": 11,
   "id": "54af3f12-c7a4-489b-adc1-62fde3d26b30",
   "metadata": {},
   "outputs": [
    {
     "name": "stdout",
     "output_type": "stream",
     "text": [
      "Defaulting to user installation because normal site-packages is not writeable\n",
      "Collecting wikipedia\n",
      "  Downloading wikipedia-1.4.0.tar.gz (27 kB)\n",
      "  Preparing metadata (setup.py) ... \u001b[?25ldone\n",
      "\u001b[?25hRequirement already satisfied: beautifulsoup4 in /home/matthieu/.local/lib/python3.10/site-packages (from wikipedia) (4.12.2)\n",
      "Requirement already satisfied: requests<3.0.0,>=2.0.0 in /home/matthieu/.local/lib/python3.10/site-packages (from wikipedia) (2.31.0)\n",
      "Requirement already satisfied: charset-normalizer<4,>=2 in /home/matthieu/.local/lib/python3.10/site-packages (from requests<3.0.0,>=2.0.0->wikipedia) (3.2.0)\n",
      "Requirement already satisfied: idna<4,>=2.5 in /usr/lib/python3/dist-packages (from requests<3.0.0,>=2.0.0->wikipedia) (3.3)\n",
      "Requirement already satisfied: urllib3<3,>=1.21.1 in /usr/lib/python3/dist-packages (from requests<3.0.0,>=2.0.0->wikipedia) (1.26.5)\n",
      "Requirement already satisfied: certifi>=2017.4.17 in /usr/lib/python3/dist-packages (from requests<3.0.0,>=2.0.0->wikipedia) (2020.6.20)\n",
      "Requirement already satisfied: soupsieve>1.2 in /home/matthieu/.local/lib/python3.10/site-packages (from beautifulsoup4->wikipedia) (2.4.1)\n",
      "Building wheels for collected packages: wikipedia\n",
      "  Building wheel for wikipedia (setup.py) ... \u001b[?25ldone\n",
      "\u001b[?25h  Created wheel for wikipedia: filename=wikipedia-1.4.0-py3-none-any.whl size=11680 sha256=b45b62c6ff6f511471190f69cb0cc3c16ccced93fab65c090b7939099304d3eb\n",
      "  Stored in directory: /home/matthieu/.cache/pip/wheels/5e/b6/c5/93f3dec388ae76edc830cb42901bb0232504dfc0df02fc50de\n",
      "Successfully built wikipedia\n",
      "Installing collected packages: wikipedia\n",
      "Successfully installed wikipedia-1.4.0\n",
      "\n",
      "\u001b[1m[\u001b[0m\u001b[34;49mnotice\u001b[0m\u001b[1;39;49m]\u001b[0m\u001b[39;49m A new release of pip is available: \u001b[0m\u001b[31;49m23.2.1\u001b[0m\u001b[39;49m -> \u001b[0m\u001b[32;49m24.0\u001b[0m\n",
      "\u001b[1m[\u001b[0m\u001b[34;49mnotice\u001b[0m\u001b[1;39;49m]\u001b[0m\u001b[39;49m To update, run: \u001b[0m\u001b[32;49mpython3 -m pip install --upgrade pip\u001b[0m\n"
     ]
    }
   ],
   "source": [
    "!pip install wikipedia-api"
   ]
  },
  {
   "cell_type": "code",
   "execution_count": 23,
   "id": "df9fcbf1-92fc-404a-a575-4cd88b8d765f",
   "metadata": {},
   "outputs": [],
   "source": [
    "import wikipediaapi\n",
    "\n",
    "# Crear un objeto Wikipedia\n",
    "wiki = wikipediaapi.Wikipedia(\n",
    "    language='en', \n",
    "    user_agent='my-application/1.0')"
   ]
  },
  {
   "cell_type": "code",
   "execution_count": 24,
   "id": "617c2fc0-5729-4a8c-ae63-ad6789aa1415",
   "metadata": {},
   "outputs": [
    {
     "name": "stdout",
     "output_type": "stream",
     "text": [
      "Vladimir Vladimirovich Putin (born 7 October 1952) is a Russian politician and former intelligence officer who is the president of Russia. Putin has held continuous positions as president or prime minister since 1999: as prime minister from 1999 to 2000 and from 2008 to 2012, and as president from 2000 to 2008 and since 2012. He is the longest-serving Russian or Soviet leader since Joseph Stalin.\n"
     ]
    }
   ],
   "source": [
    "# Realizar una consulta a Wikipedia\n",
    "page = wiki.page(\"Vladimir Putin\")  \n",
    "\n",
    "# Verificar si la página existe\n",
    "if page.exists():\n",
    "    # Imprimir las primeras frases de la página\n",
    "    first_sentences = page.summary.split('\\n')[0]  # Obtener la primera oración\n",
    "    print(first_sentences)\n",
    "else:\n",
    "    print(\"La página no existe.\")"
   ]
  },
  {
   "cell_type": "code",
   "execution_count": 25,
   "id": "33936712-1496-4305-837a-3454d8c672b9",
   "metadata": {},
   "outputs": [
    {
     "name": "stdout",
     "output_type": "stream",
     "text": [
      "a Russian politician and former intelligence officer\n"
     ]
    }
   ],
   "source": [
    "result = nlp(question=\"Who is Vladimir Putin?\", context=first_sentences)\n",
    "print(result['answer'])"
   ]
  },
  {
   "cell_type": "code",
   "execution_count": 28,
   "id": "7e1cc66a-b4ce-4b93-af27-b54006aa1aaa",
   "metadata": {},
   "outputs": [
    {
     "name": "stdout",
     "output_type": "stream",
     "text": [
      "7 October 1952\n"
     ]
    }
   ],
   "source": [
    "result = nlp(question=\"When does Valdimir Putin born?\", context=first_sentences)\n",
    "print(result['answer'])\n"
   ]
  },
  {
   "cell_type": "markdown",
   "id": "70dbb984-63d2-4bd9-a6b7-6e3c85e361b1",
   "metadata": {},
   "source": [
    "- En español"
   ]
  },
  {
   "cell_type": "code",
   "execution_count": 29,
   "id": "6497bde2-a32b-4fba-a2d1-1c595ee19510",
   "metadata": {},
   "outputs": [
    {
     "data": {
      "application/vnd.jupyter.widget-view+json": {
       "model_id": "7d81ba6996b6424189a96e1a3a9912de",
       "version_major": 2,
       "version_minor": 0
      },
      "text/plain": [
       "Downloading tokenizer_config.json:   0%|          | 0.00/135 [00:00<?, ?B/s]"
      ]
     },
     "metadata": {},
     "output_type": "display_data"
    },
    {
     "data": {
      "application/vnd.jupyter.widget-view+json": {
       "model_id": "a04a20866725494c8410a28bbaae21fc",
       "version_major": 2,
       "version_minor": 0
      },
      "text/plain": [
       "Downloading config.json:   0%|          | 0.00/465 [00:00<?, ?B/s]"
      ]
     },
     "metadata": {},
     "output_type": "display_data"
    },
    {
     "data": {
      "application/vnd.jupyter.widget-view+json": {
       "model_id": "d2e5c023fd8e423489c4125828561149",
       "version_major": 2,
       "version_minor": 0
      },
      "text/plain": [
       "Downloading vocab.txt:   0%|          | 0.00/242k [00:00<?, ?B/s]"
      ]
     },
     "metadata": {},
     "output_type": "display_data"
    },
    {
     "data": {
      "application/vnd.jupyter.widget-view+json": {
       "model_id": "cfe7fa56485a456e9256dc58b15f7939",
       "version_major": 2,
       "version_minor": 0
      },
      "text/plain": [
       "Downloading (…)cial_tokens_map.json:   0%|          | 0.00/112 [00:00<?, ?B/s]"
      ]
     },
     "metadata": {},
     "output_type": "display_data"
    },
    {
     "data": {
      "application/vnd.jupyter.widget-view+json": {
       "model_id": "6ba1d3db8e5f4a1e9ac2ef85ae3ed99b",
       "version_major": 2,
       "version_minor": 0
      },
      "text/plain": [
       "Downloading pytorch_model.bin:   0%|          | 0.00/439M [00:00<?, ?B/s]"
      ]
     },
     "metadata": {},
     "output_type": "display_data"
    },
    {
     "name": "stderr",
     "output_type": "stream",
     "text": [
      "Some weights of the model checkpoint at mrm8488/bert-base-spanish-wwm-cased-finetuned-spa-squad2-es were not used when initializing BertForQuestionAnswering: ['bert.pooler.dense.weight', 'bert.pooler.dense.bias']\n",
      "- This IS expected if you are initializing BertForQuestionAnswering from the checkpoint of a model trained on another task or with another architecture (e.g. initializing a BertForSequenceClassification model from a BertForPreTraining model).\n",
      "- This IS NOT expected if you are initializing BertForQuestionAnswering from the checkpoint of a model that you expect to be exactly identical (initializing a BertForSequenceClassification model from a BertForSequenceClassification model).\n"
     ]
    }
   ],
   "source": [
    "from transformers import AutoModelForQuestionAnswering, AutoTokenizer\n",
    "\n",
    "model=\"mrm8488/bert-base-spanish-wwm-cased-finetuned-spa-squad2-es\"\n",
    "\n",
    "tokenizer = AutoTokenizer.from_pretrained(model)\n",
    "\n",
    "model = AutoModelForQuestionAnswering.from_pretrained(model)"
   ]
  },
  {
   "cell_type": "code",
   "execution_count": 30,
   "id": "e68543f0-9922-4dd1-b8ca-3394b26e03a8",
   "metadata": {},
   "outputs": [
    {
     "name": "stdout",
     "output_type": "stream",
     "text": [
      "Valdivia es una ciudad y comuna de la zona sur de Chile, capital de la provincia homónima, y de la Región de Los Ríos, se encuentra aproximadamente a 848 kilómetros al sur de la ciudad de Santiago, la capital de Chile.[2]​ Está emplazada en la confluencia de los ríos CalleCalle, Valdivia, Caucau y Cruces, y se encuentra a tan solo 15 kilómetros de la bahía de Corral, Según el censo nacional realizado en 2017 por el Instituto Nacional de Estadísticas de Chile, tiene una población aproximada de 166 080 habitantes.[3]​\n"
     ]
    }
   ],
   "source": [
    "wiki = wikipediaapi.Wikipedia(\n",
    "    language='es', \n",
    "    user_agent='my-application/1.0')\n",
    "\n",
    "# Realizar una consulta a Wikipedia\n",
    "page = wiki.page(\"Valdivia\")  \n",
    "\n",
    "# Verificar si la página existe\n",
    "if page.exists():\n",
    "    # Imprimir las primeras frases de la página\n",
    "    first_sentences = page.summary.split('\\n')[0]  # Obtener la primera oración\n",
    "    print(first_sentences)\n",
    "else:\n",
    "    print(\"La página no existe.\")"
   ]
  },
  {
   "cell_type": "code",
   "execution_count": 32,
   "id": "58710351-65ec-47c5-b1ed-4007f9f1c580",
   "metadata": {},
   "outputs": [
    {
     "name": "stdout",
     "output_type": "stream",
     "text": [
      "En qué año fue fundada Valdivia?\n",
      "una ciudad y comuna de la zona sur de Chile\n",
      "Cuál río pasa por Valdivia?\n",
      "Caucau y Cruces\n",
      "Cuántos habitantes viven en Valdivia?\n",
      "166 080\n",
      "A qué distancia de Santiago se encuentra Valdivia?\n",
      "848\n"
     ]
    }
   ],
   "source": [
    "questions = [\n",
    "    \"En qué año fue fundada Valdivia?\",\n",
    "    \"Cuál río pasa por Valdivia?\",\n",
    "    \"Cuántos habitantes viven en Valdivia?\",\n",
    "    \"A qué distancia de Santiago se encuentra Valdivia?\"\n",
    "]\n",
    "\n",
    "for question in questions:\n",
    "    \n",
    "    result = nlp(question=question, tokenizer=tokenizer, model=model, context=first_sentences)\n",
    "    print(question)\n",
    "    print(result['answer'])"
   ]
  },
  {
   "cell_type": "code",
   "execution_count": null,
   "id": "a1098738-fad2-4510-a9e9-f9b14b6c1896",
   "metadata": {},
   "outputs": [],
   "source": []
  }
 ],
 "metadata": {
  "kernelspec": {
   "display_name": "Python 3 (ipykernel)",
   "language": "python",
   "name": "python3"
  },
  "language_info": {
   "codemirror_mode": {
    "name": "ipython",
    "version": 3
   },
   "file_extension": ".py",
   "mimetype": "text/x-python",
   "name": "python",
   "nbconvert_exporter": "python",
   "pygments_lexer": "ipython3",
   "version": "3.10.12"
  }
 },
 "nbformat": 4,
 "nbformat_minor": 5
}
